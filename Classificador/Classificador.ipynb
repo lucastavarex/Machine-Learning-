{
  "cells": [
    {
      "cell_type": "markdown",
      "metadata": {
        "id": "MimyFMQ4UaEe"
      },
      "source": [
        "# Introdução ao Aprendizado de Máquina\n",
        "## Relatório do Trabalho Prático 1 - EEL891 - Semestre 2023/2\n",
        "### Orientador: Heraldo Luis -- Aluno: Lucas Tavares Da Silva Ferreira\n",
        "\n",
        "```This document is the report of the first practical task of the discipline “Introduction to Machine Learning” (EEL891) at the Federal University of Rio de Janeiro (UFRJ). The work consists of building a classifier to support the credit approval decision. ```\n",
        "\n",
        "```The classifier to support the credit approval decision must identify among the customers who request a credit product (such as a credit card or a personal loan, for example) and who meet the essential prerequisites for credit approval, those that present a high risk of not being able to honor the payment, becoming defaulters.```"
      ]
    },
    {
      "cell_type": "markdown",
      "metadata": {
        "id": "m2B7F9RezOgt"
      },
      "source": [
        "# Trabalho 1"
      ]
    },
    {
      "cell_type": "markdown",
      "metadata": {
        "id": "TtWYS_EJZk8V"
      },
      "source": [
        "## Estudo das variáveis"
      ]
    },
    {
      "cell_type": "code",
      "execution_count": null,
      "metadata": {
        "id": "fsHTvuM4UASy"
      },
      "outputs": [],
      "source": [
        "import pandas as pd\n",
        "import numpy as np\n",
        "import matplotlib.pyplot as plt\n",
        "from sklearn.neighbors import KNeighborsClassifier\n",
        "from sklearn.preprocessing import LabelBinarizer\n",
        "from sklearn.preprocessing import MinMaxScaler\n",
        "from sklearn.model_selection import cross_val_score\n",
        "\n",
        "dados = pd.read_csv('conjunto_de_treinamento.csv', delimiter=',', decimal='.')\n",
        "dados_teste = pd.read_csv('conjunto_de_teste.csv', delimiter=',', decimal='.')\n",
        "\n",
        "\n",
        "\n",
        "dados['meses_na_residencia'] = dados['meses_na_residencia'].fillna(dados['meses_na_residencia'].median())\n",
        "\n",
        "dados['profissao_companheiro'] = dados['profissao_companheiro'].fillna(dados['profissao_companheiro'].median())\n",
        "\n",
        "dados['tipo_residencia'] = dados['tipo_residencia'].fillna(dados['tipo_residencia'].median())\n",
        "\n",
        "dados_teste['meses_na_residencia'] = dados_teste['meses_na_residencia'].fillna(dados_teste['meses_na_residencia'].median())\n",
        "\n",
        "dados_teste['profissao_companheiro'] = dados_teste['profissao_companheiro'].fillna(dados_teste['profissao_companheiro'].median())\n",
        "\n",
        "dados_teste['tipo_residencia'] = dados_teste['tipo_residencia'].fillna(dados_teste['tipo_residencia'].median())"
      ]
    },
    {
      "cell_type": "markdown",
      "metadata": {
        "id": "ftL1hSYv38hW"
      },
      "source": [
        "## Estados por região"
      ]
    },
    {
      "cell_type": "code",
      "execution_count": null,
      "metadata": {
        "id": "aIPZKGMv34N2"
      },
      "outputs": [],
      "source": [
        "regioes = {'RJ':'sudeste',\n",
        "         'ES':'sudeste',\n",
        "         'MG':'sudeste',\n",
        "         'SP':'sudeste',\n",
        "         'MT':'centroOeste',\n",
        "         'MS':'centroOeste',\n",
        "         'DF':'centroOeste',\n",
        "         'GO':'centroOeste',\n",
        "         'RS':'sul',\n",
        "         'PR':'sul',\n",
        "         'SC':'sul',\n",
        "         'SE':'nordeste',\n",
        "         'AL':'nordeste',\n",
        "         'BA':'nordeste',\n",
        "         'PE':'nordeste',\n",
        "         'RN':'nordeste',\n",
        "         'PB':'nordeste',\n",
        "         'MA':'nordeste',\n",
        "         'PI':'nordeste',\n",
        "         'CE':'nordeste',\n",
        "         'AP':'norte',\n",
        "         'RR':'norte',\n",
        "         'PA':'norte',\n",
        "         'RO':'norte',\n",
        "         'TO':'norte',\n",
        "         'AC':'norte',\n",
        "         'AM':'norte',}\n",
        "\n",
        "dados = dados.replace(regioes)\n",
        "dados_teste = dados_teste.replace(regioes)\n"
      ]
    },
    {
      "cell_type": "markdown",
      "metadata": {
        "id": "zkwoP8KkKW3a"
      },
      "source": [
        "## Preenchimento de nulos, mapeamento de categorias..."
      ]
    },
    {
      "cell_type": "markdown",
      "metadata": {
        "id": "t2YRyrjnyU_i"
      },
      "source": [
        "Verificando o valor médio de cada atributo em cada classe"
      ]
    },
    {
      "cell_type": "code",
      "execution_count": null,
      "metadata": {
        "id": "ohNU_rksE-Ys"
      },
      "outputs": [],
      "source": [
        "\n",
        "#Lendo a quantidade de amostras de cada classe\n",
        "\n",
        "print(dados['inadimplente'].value_counts())\n",
        "\n",
        "print(dados.groupby(['inadimplente']).mean().T)\n",
        "\n",
        "\n"
      ]
    },
    {
      "cell_type": "markdown",
      "metadata": {
        "id": "cU3v2UI0ybOp"
      },
      "source": [
        "Preenchendo os espaços nulos"
      ]
    },
    {
      "cell_type": "code",
      "execution_count": null,
      "metadata": {
        "id": "g93WIfp0kqbU"
      },
      "outputs": [],
      "source": [
        "dados = dados.fillna(0)\n",
        "dados_teste  = dados_teste.fillna(0)"
      ]
    },
    {
      "cell_type": "markdown",
      "metadata": {
        "id": "JgjNwKIlye83"
      },
      "source": [
        "Leitura de variáveis categóricas"
      ]
    },
    {
      "cell_type": "code",
      "execution_count": null,
      "metadata": {
        "id": "hAlQaT9dF7Oz"
      },
      "outputs": [],
      "source": [
        "#Imprimir os tipos de dados de cada coluna\n",
        "variaveis_categoricas = [ x for x in dados.columns if dados[x].dtype == 'object']\n",
        "\n",
        "#print(dados.dtypes)\n",
        "#print(variaveis_categoricas)"
      ]
    },
    {
      "cell_type": "code",
      "execution_count": null,
      "metadata": {
        "id": "Y6vLJtHdIc1t"
      },
      "outputs": [],
      "source": [
        "for v in variaveis_categoricas:\n",
        "  print('\\n%15s: '%v, \"%4d categorias\" % len(dados[v].unique()))\n",
        "  print(dados[v].unique(),'\\n')"
      ]
    },
    {
      "cell_type": "markdown",
      "metadata": {
        "id": "mO-TQ4nNyjEf"
      },
      "source": [
        "Eliminando variáveis"
      ]
    },
    {
      "cell_type": "code",
      "execution_count": null,
      "metadata": {
        "id": "cpRUjym-g7IJ"
      },
      "outputs": [],
      "source": [
        "#Descartando dados de alta cardinalidade\n",
        "dados = dados.drop (['codigo_area_telefone_residencial', 'codigo_area_telefone_trabalho', 'possui_telefone_celular',\n",
        "                     'id_solicitante','estado_onde_trabalha','qtde_contas_bancarias_especiais','estado_onde_nasceu','grau_instrucao_companheiro','local_onde_trabalha', 'grau_instrucao'], axis = 1)\n",
        "\n",
        "\n",
        "#dados = dados.drop(['meses_no_trabalho'],axis=1)\n",
        "#dados = dados.drop(['forma_envio_solicitacao'],axis=1)\n",
        "dados_teste = dados_teste.drop (['codigo_area_telefone_residencial', 'codigo_area_telefone_trabalho', 'possui_telefone_celular',\n",
        "                     'id_solicitante','estado_onde_trabalha','estado_onde_nasceu','qtde_contas_bancarias_especiais','grau_instrucao_companheiro','local_onde_trabalha','grau_instrucao'], axis = 1)\n",
        "\n",
        "\n",
        "#dados_teste = dados_teste.drop(['meses_no_trabalho'],axis=1)\n",
        "#dados_teste = dados_teste.drop(['estado_onde_reside'],axis=1)\n",
        "#dados_teste = dados_teste.drop(['forma_envio_solicitacao'],axis=1)"
      ]
    },
    {
      "cell_type": "markdown",
      "metadata": {
        "id": "eVLqGGXkyrjw"
      },
      "source": [
        "Aplicando o One-Hot-Encoding"
      ]
    },
    {
      "cell_type": "code",
      "execution_count": null,
      "metadata": {
        "id": "Qzq91jcXhACg"
      },
      "outputs": [],
      "source": [
        "\n",
        "\n",
        " #colocando 0 onde há espaço em branco\n",
        "dados = pd.get_dummies(dados,columns = ['forma_envio_solicitacao'])\n",
        "dados = pd.get_dummies(dados,columns = ['estado_onde_reside'])\n",
        "dados = pd.get_dummies(dados,columns = ['sexo'])\n",
        "#dados = pd.get_dummies(dados,columns = ['produto_solicitado'])\n",
        "#dados = pd.get_dummies(dados,columns = ['ocupacao'])\n",
        "#dados = pd.get_dummies(dados,columns = ['tipo_residencia'])\n",
        "#dados = pd.get_dummies(dados,columns = ['local_onde_reside'])\n",
        "\n",
        "\n",
        "dados_teste = pd.get_dummies(dados_teste,columns = ['forma_envio_solicitacao'])\n",
        "dados_teste = pd.get_dummies(dados_teste,columns = ['estado_onde_reside'])\n",
        "dados_teste = pd.get_dummies(dados_teste,columns = ['sexo'])\n",
        "#dados_teste = pd.get_dummies(dados_teste,columns = ['produto_solicitado'])\n",
        "#dados_teste = pd.get_dummies(dados_teste,columns = ['ocupacao'])\n",
        "#dados_teste = pd.get_dummies(dados_teste,columns = ['tipo_residencia'])\n",
        "#dados_teste = pd.get_dummies(dados_teste,columns = ['local_onde_reside'])\n",
        "\n"
      ]
    },
    {
      "cell_type": "code",
      "execution_count": null,
      "metadata": {
        "id": "YorTY8AXhBvY"
      },
      "outputs": [],
      "source": [
        "#Binarizando variáveis\n",
        "binarizador = LabelBinarizer()\n",
        "for x in ['vinculo_formal_com_empresa', 'possui_telefone_trabalho','possui_telefone_residencial']:\n",
        "  dados[x] = binarizador.fit_transform(dados[x])\n",
        "  dados_teste[x] = binarizador.fit_transform(dados_teste[x])\n",
        "#print(dados.head(10).T)\n"
      ]
    },
    {
      "cell_type": "code",
      "execution_count": null,
      "metadata": {
        "id": "smhEZmcEdn_s"
      },
      "outputs": [],
      "source": [
        "#display(dados.columns)"
      ]
    },
    {
      "cell_type": "code",
      "execution_count": null,
      "metadata": {
        "id": "_kn0izumNup7"
      },
      "outputs": [],
      "source": [
        "dados.columns.tolist()"
      ]
    },
    {
      "cell_type": "markdown",
      "metadata": {
        "id": "Re7BP_kZkTzs"
      },
      "source": [
        "Selecionando atributos"
      ]
    },
    {
      "cell_type": "code",
      "execution_count": null,
      "metadata": {
        "id": "RT4mtAohi--9"
      },
      "outputs": [],
      "source": [
        "atributosSelecionados = [\n",
        " 'id_solicitante',\n",
        " 'produto_solicitado',\n",
        " 'dia_vencimento',\n",
        " 'forma_envio_solicitacao',\n",
        " 'tipo_endereco',\n",
        " 'sexo',\n",
        " 'idade',\n",
        " 'estado_civil',\n",
        " 'qtde_dependentes',\n",
        " 'grau_instrucao',\n",
        " 'nacionalidade',\n",
        " 'estado_onde_nasceu',\n",
        " 'estado_onde_reside',\n",
        " 'possui_telefone_residencial',\n",
        " 'codigo_area_telefone_residencial',\n",
        " 'tipo_residencia',\n",
        " 'meses_na_residencia',\n",
        " 'possui_telefone_celular',\n",
        " 'possui_email',\n",
        " 'renda_mensal_regular',\n",
        " 'renda_extra',\n",
        " 'possui_cartao_visa',\n",
        " 'possui_cartao_mastercard',\n",
        " 'possui_cartao_diners',\n",
        " 'possui_cartao_amex',\n",
        " 'possui_outros_cartoes',\n",
        " 'qtde_contas_bancarias',\n",
        " 'qtde_contas_bancarias_especiais',\n",
        " 'valor_patrimonio_pessoal',\n",
        " 'possui_carro',\n",
        " 'vinculo_formal_com_empresa',\n",
        " 'estado_onde_trabalha',\n",
        " 'possui_telefone_trabalho',\n",
        " 'codigo_area_telefone_trabalho',\n",
        " 'meses_no_trabalho',\n",
        " 'profissao',\n",
        " 'ocupacao',\n",
        " 'profissao_companheiro',\n",
        " 'local_onde_reside',\n",
        " 'local_onde_trabalha',\n",
        " ]\n",
        "\n",
        "alvo = 'inadimplente'\n"
      ]
    },
    {
      "cell_type": "markdown",
      "metadata": {
        "id": "LDMu-46TlpAy"
      },
      "source": [
        "Permutação Aleatória de dados"
      ]
    },
    {
      "cell_type": "code",
      "execution_count": null,
      "metadata": {
        "id": "V3mL0JaVlh8B"
      },
      "outputs": [],
      "source": [
        "dados_embaralhados = dados.sample(frac=1,random_state=12345)\n",
        "dados_teste_embaralhados =dados_teste.sample(frac=1,random_state=12)"
      ]
    },
    {
      "cell_type": "code",
      "execution_count": null,
      "metadata": {
        "id": "_zbwykoJn6v8"
      },
      "outputs": [],
      "source": [
        "x = dados_embaralhados.loc[:,dados_embaralhados.columns != 'inadimplente'].values\n",
        "y = dados_embaralhados.loc[:,dados_embaralhados.columns == 'inadimplente'].values\n",
        "\n",
        "x_testagem = dados_teste.loc[:,dados_teste.columns != 'inadimplente'].values\n",
        "y_testagem = dados_teste.loc[:,dados_teste.columns == 'inadimplente'].values"
      ]
    },
    {
      "cell_type": "markdown",
      "metadata": {
        "id": "K8iWSOQdK99E"
      },
      "source": [
        "## Seleção de amostras para calibragem do algoritmo KNN e Logistic Regression"
      ]
    },
    {
      "cell_type": "code",
      "execution_count": null,
      "metadata": {
        "id": "ddA7VEkJokuq"
      },
      "outputs": [],
      "source": [
        "#treino\n",
        "x_treino = x[:17000,:-1]\n",
        "y_treino= y[:17000,-1].ravel()\n",
        "\n",
        "#teste\n",
        "x_teste = x[17000:,:-1]\n",
        "y_teste = y[17000:,-1].ravel()\n",
        "\n",
        "\n"
      ]
    },
    {
      "cell_type": "markdown",
      "metadata": {
        "id": "LpBpNJTQO2K_"
      },
      "source": [
        "## Scaler para calibragem do algoritmo KNN e Logistic Regression"
      ]
    },
    {
      "cell_type": "code",
      "execution_count": null,
      "metadata": {
        "id": "knfYXmt1OShP"
      },
      "outputs": [],
      "source": [
        "scaler = MinMaxScaler()\n",
        "scaler.fit_transform(x_treino)\n",
        "x_treino = scaler.transform(x_treino)\n",
        "x_teste = scaler.transform(x_teste)"
      ]
    },
    {
      "cell_type": "code",
      "execution_count": null,
      "metadata": {
        "id": "rMglGE9TXE8u"
      },
      "outputs": [],
      "source": [
        "#from sklearn.preprocessing import StandardScaler\n",
        "\n",
        "#StdSc = StandardScaler()\n",
        "#StdSc = StdSc.fit(x_treino)\n",
        "#x_treino = StdSc.transform(x_treino)\n",
        "#x_teste = StdSc.transform(x_teste)"
      ]
    },
    {
      "cell_type": "markdown",
      "metadata": {
        "id": "jDX_5txIK7SN"
      },
      "source": [
        "## Seleção de Amostras para geração de CSV"
      ]
    },
    {
      "cell_type": "code",
      "execution_count": null,
      "metadata": {
        "id": "PWvetB5xlQiz"
      },
      "outputs": [],
      "source": [
        "#treino\n",
        "x_treino_final = x\n",
        "y_treino_final = y.ravel()\n",
        "\n",
        "#teste\n",
        "x_teste_final = x_testagem\n",
        "\n"
      ]
    },
    {
      "cell_type": "markdown",
      "metadata": {
        "id": "2roSrpxUZq10"
      },
      "source": [
        "## Método KNN"
      ]
    },
    {
      "cell_type": "code",
      "execution_count": null,
      "metadata": {
        "id": "XP5NujyoUQVw"
      },
      "outputs": [],
      "source": [
        "for k in range(1,4): #colocado um alcance curto para que a execução de todo o código, na hora de ser avaliado, não demorar muito\n",
        "\n",
        "    classificador = KNeighborsClassifier(n_neighbors=k)\n",
        "    classificador = classificador.fit(x_treino,y_treino)\n",
        "\n",
        "    y_resposta_treino = classificador.predict(x_treino)\n",
        "    y_resposta_teste  = classificador.predict(x_teste)\n",
        "\n",
        "    acuracia_treino = sum(y_resposta_treino==y_treino)/len(y_treino)\n",
        "    acuracia_teste  = sum(y_resposta_teste ==y_teste) /len(y_teste)\n",
        "\n",
        "    print(\n",
        "        \"%3d\"%k,\n",
        "        \"%6.1f\" % (100*acuracia_treino),\n",
        "        \"%6.1f\" % (100*acuracia_teste)\n",
        "        )\n",
        "#    scores = cross_val_score(classificador, x,y.ravel(), cv = 5)\n",
        "#    print('k = %2d'%k, 'scores = ', scores, 'acuracia media = %6.1f' % (100*sum(scores)/5))"
      ]
    },
    {
      "cell_type": "markdown",
      "metadata": {
        "id": "2nJehDPBQDjs"
      },
      "source": [
        "### Geração de CSV (KNN)"
      ]
    },
    {
      "cell_type": "code",
      "execution_count": null,
      "metadata": {
        "id": "6ZF2ZugeQHqr"
      },
      "outputs": [],
      "source": [
        "classificador = KNeighborsClassifier(n_neighbors=32)\n",
        "classificador = classificador.fit(x_treino_final,y_treino_final)\n",
        "y_resposta_treino = classificador.predict(x_treino_final)\n",
        "y_resposta_testeKNN = classificador.predict(x_teste_final)\n",
        "\n"
      ]
    },
    {
      "cell_type": "code",
      "execution_count": null,
      "metadata": {
        "id": "X2qEhqc6B0Zv"
      },
      "outputs": [],
      "source": [
        "\n",
        "#aux = pd.read_csv('conjunto_de_teste.csv')\n",
        "#resposta_KNN = pd.DataFrame({'id_solicitante':aux.pop('id_solicitante'), 'inadimplente':np.squeeze(np.int16(y_resposta_testeKNN ))})\n",
        "#resposta_KNN.to_csv(\"resposta_KNN.csv\",index=False)\n",
        "#Como o random forest obteve melhores resultados, decidi não gerar o CSV deste método"
      ]
    },
    {
      "cell_type": "markdown",
      "metadata": {
        "id": "fBdcQemGkuFD"
      },
      "source": [
        "## Método Logistic Regression"
      ]
    },
    {
      "cell_type": "code",
      "execution_count": null,
      "metadata": {
        "id": "zcTNc0u9kzsa"
      },
      "outputs": [],
      "source": [
        "from sklearn.linear_model import LogisticRegression\n",
        "\n",
        "for k in range(-1,10):\n",
        "\n",
        "\n",
        "    c = pow(10,k)\n",
        "    classificador = LogisticRegression(penalty = 'l2', C = c)\n",
        "    classificador = classificador.fit(x_treino,y_treino)\n",
        "\n",
        "    y_resposta_treino = classificador.predict(x_treino)\n",
        "    y_resposta_teste  = classificador.predict(x_teste)\n",
        "\n",
        "    acuracia_treino = sum(y_resposta_treino==y_treino)/len(y_treino)\n",
        "    acuracia_teste  = sum(y_resposta_teste ==y_teste) /len(y_teste)\n",
        "\n",
        "    print(\n",
        "        \"%14.6f\"%c,\n",
        "        \"%6.1f\" % (100*acuracia_treino),\n",
        "        \"%6.1f\" % (100*acuracia_teste)\n",
        "        )"
      ]
    },
    {
      "cell_type": "markdown",
      "metadata": {
        "id": "IdqSVKrJze3W"
      },
      "source": [
        "### Geração de CSV (Logistic Regression)"
      ]
    },
    {
      "cell_type": "code",
      "execution_count": null,
      "metadata": {
        "id": "qtyJluijyVO8"
      },
      "outputs": [],
      "source": [
        "c = 1\n",
        "classificador = LogisticRegression(penalty = 'l2', C = c)\n",
        "classificador = classificador.fit(x_treino_final,y_treino_final)\n",
        "y_resposta_treino = classificador.predict(x_treino_final)\n",
        "y_resposta_testeRegressaoLogistica = classificador.predict(x_teste_final)"
      ]
    },
    {
      "cell_type": "code",
      "execution_count": null,
      "metadata": {
        "id": "CCmw3Rr_FBGk"
      },
      "outputs": [],
      "source": [
        "\n",
        "#aux = pd.read_csv('conjunto_de_teste.csv')\n",
        "#resposta_Logistic6 = pd.DataFrame({'id_solicitante':aux.pop('id_solicitante'), 'inadimplente':np.squeeze(np.int16(y_resposta_testeRegressaoLogistica ))})\n",
        "#resposta_Logistic6.to_csv(\"resposta_Logistic6.csv\",index=False)\n",
        "#Como o random forest obteve melhores resultados, decidi não gerar o CSV deste método"
      ]
    },
    {
      "cell_type": "markdown",
      "metadata": {
        "id": "Uq0qoICgvv5p"
      },
      "source": [
        "## Random Forest"
      ]
    },
    {
      "cell_type": "code",
      "execution_count": null,
      "metadata": {
        "id": "5HhOqFIavzhY"
      },
      "outputs": [],
      "source": [
        "from sklearn.ensemble import RandomForestClassifier\n",
        "from sklearn.experimental import enable_halving_search_cv\n",
        "from sklearn.model_selection import HalvingGridSearchCV\n",
        "from sklearn.model_selection import GridSearchCV\n",
        "from sklearn.model_selection import cross_val_score\n",
        "from sklearn.model_selection import KFold\n",
        "from sklearn.model_selection import LeaveOneOut\n",
        "import numpy as np\n",
        "import math\n",
        "import time\n",
        "\n",
        "import warnings\n",
        "\n",
        "x = dados_embaralhados.loc[:,dados_embaralhados.columns != 'inadimplente'].values #redefinindo x e y\n",
        "y = dados_embaralhados.loc[:,dados_embaralhados.columns == 'inadimplente'].values\n",
        "\n",
        "x_treino = x\n",
        "y_treino = y.ravel()\n",
        "\n",
        "\n",
        "\n"
      ]
    },
    {
      "cell_type": "markdown",
      "metadata": {
        "id": "JtDED-DAz5Yk"
      },
      "source": [
        "### Laço de repetição para simples testagem de variação de número de árvores"
      ]
    },
    {
      "cell_type": "code",
      "execution_count": null,
      "metadata": {
        "id": "LseWuI6z3BVC"
      },
      "outputs": [],
      "source": [
        "for n in range(1,11):\n",
        "\n",
        "  model = RandomForestClassifier(criterion='gini', max_depth=15, max_features=7, min_samples_leaf=5, min_samples_split=0.001, n_estimators= n)\n",
        "  model.fit(x_treino,y_treino)\n",
        "\n",
        "  kfold  = KFold(n_splits=10, shuffle=True)\n",
        "  resultado = cross_val_score(model, x_treino, y_treino, cv = kfold, scoring='accuracy')\n",
        "  print(\"n = %i\"%n)\n",
        "  print(\"K-Fold Scores: {0}\".format(resultado))\n",
        "  print(\"Media da acuracia por validação cruzada K-Fold: {0}\".format(resultado.mean()))\n",
        "  #model.score(x_teste,y_teste)\n",
        "  #print('n_estimators = %.i '%k, model.score(x_teste,y_teste))\n",
        "\n",
        "\n",
        "#scores = cross_val_score(classificador, x,y.ravel(), cv = 5)\n",
        "#print('k = %2d'%k, 'scores = ', scores, 'acuracia media = %6.1f' % (100*sum(scores)/5))"
      ]
    },
    {
      "cell_type": "markdown",
      "metadata": {
        "id": "XLyDT_Fi0Brs"
      },
      "source": [
        "### Testando variáveis específicas"
      ]
    },
    {
      "cell_type": "code",
      "execution_count": null,
      "metadata": {
        "id": "zLw1LbDpcgrj"
      },
      "outputs": [],
      "source": [
        "model = RandomForestClassifier(criterion='gini', max_depth=15, max_features=7, min_samples_leaf=5, min_samples_split=0.001, n_estimators= 200)\n",
        "model.fit(x_treino,y_treino)\n",
        "kfold  = KFold(n_splits=10, shuffle=True)\n",
        "resultado = cross_val_score(model, x_treino, y_treino, cv = kfold, scoring='accuracy')\n",
        "print(\"K-Fold Scores: {0}\".format(resultado))\n",
        "print(\"Media de acuracia por validação cruzada K-Fold: {0}\".format(resultado.mean()))\n",
        "#model.score(x_teste,y_teste)"
      ]
    },
    {
      "cell_type": "markdown",
      "metadata": {
        "id": "95R4vpD80Irk"
      },
      "source": [
        "### Geração de CSV (Random Forest)"
      ]
    },
    {
      "cell_type": "code",
      "execution_count": null,
      "metadata": {
        "id": "3w_jpIF-0f5I"
      },
      "outputs": [],
      "source": [
        "\n",
        "\n",
        "model = RandomForestClassifier(criterion='gini', max_depth=15, max_features=7, min_samples_leaf=5, min_samples_split=0.001, n_estimators= 200)\n",
        "model.fit(x_treino_final,y_treino_final)\n",
        "#model.score(x_teste_final,y_teste_final)\n"
      ]
    },
    {
      "cell_type": "code",
      "execution_count": null,
      "metadata": {
        "id": "qwelQnXQ0u_9"
      },
      "outputs": [],
      "source": [
        "y_random_forest = model.predict(x_teste_final)\n"
      ]
    },
    {
      "cell_type": "code",
      "execution_count": null,
      "metadata": {
        "id": "DA05VX9sbv1k"
      },
      "outputs": [],
      "source": [
        "print(y_random_forest)"
      ]
    },
    {
      "cell_type": "markdown",
      "metadata": {
        "id": "xlhYwOyZpWdo"
      },
      "source": [
        "## Salvando o CSV gerado"
      ]
    },
    {
      "cell_type": "code",
      "execution_count": null,
      "metadata": {
        "id": "UMtX8dlapPsg"
      },
      "outputs": [],
      "source": [
        "#y_random_forest = clf.predict(x_teste)\n",
        "aux = pd.read_csv('conjunto_de_teste.csv')\n",
        "resposta_random_forestClassificador_teste5 = pd.DataFrame({'id_solicitante':aux.pop('id_solicitante'), 'inadimplente':np.squeeze(np.int16(y_random_forest))})\n",
        "resposta_random_forestClassificador_teste5.to_csv(\"resposta_random_forestClassificador_teste5.csv\",index=False)\n"
      ]
    },
    {
      "cell_type": "markdown",
      "metadata": {
        "id": "T9aVfpWTB4zz"
      },
      "source": [
        "## Conclusão\n",
        "\n",
        "O random forest obteve os melhores resultados ao comparar o CSV gerado por esse método com o CSV das respostas, com uma média de acurácia maior do que os outros métodos (0.58)\n",
        "\n",
        "\n",
        "\n"
      ]
    }
  ],
  "metadata": {
    "colab": {
      "collapsed_sections": [
        "TtWYS_EJZk8V",
        "fBdcQemGkuFD"
      ],
      "provenance": []
    },
    "kernelspec": {
      "display_name": "Python 3",
      "name": "python3"
    },
    "language_info": {
      "codemirror_mode": {
        "name": "ipython",
        "version": 3
      },
      "file_extension": ".py",
      "mimetype": "text/x-python",
      "name": "python",
      "nbconvert_exporter": "python",
      "pygments_lexer": "ipython3",
      "version": "3.9.6"
    }
  },
  "nbformat": 4,
  "nbformat_minor": 0
}