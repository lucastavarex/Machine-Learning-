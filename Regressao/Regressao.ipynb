{
  "cells": [
    {
      "cell_type": "markdown",
      "metadata": {
        "id": "X6Y-earj-ZR4"
      },
      "source": [
        "# Introdução ao Aprendizado de Máquina\n",
        "## Relatório do Trabalho Prático 2 - EEL891 - Semestre 2023/2\n",
        "### Orientador: Heraldo Luis -- Aluno: Lucas Tavares Da Silva Ferreira\n",
        "\n",
        "```This document is the report of the 2nd practical task of the discipline “Introduction to Machine Learning” (EEL891) at the Federal University of Rio de Janeiro (UFRJ). The work consists of building a classifier to support the credit approval decision. ```\n",
        "\n",
        "```In this work, multivariable regression techniques will be used to estimate the price of a property based on characteristics such as the type of property (apartment, house, loft or studio apartment), neighborhood where it is located, number of rooms, number of spaces, useful area , extra area and presence of differentiating elements in relation to other properties, such as barbecue, parking for visitors, swimming pool, playground, sports court, football field, party room, games room, gym, sauna and views of the sea.```"
      ]
    },
    {
      "cell_type": "markdown",
      "source": [
        "# Trabalho 2\n",
        "\n"
      ],
      "metadata": {
        "id": "X03a4Kd8yCE1"
      }
    },
    {
      "cell_type": "markdown",
      "metadata": {
        "id": "tp2kU5AnVDRz"
      },
      "source": [
        "## Tratamento de variáveis"
      ]
    },
    {
      "cell_type": "code",
      "execution_count": null,
      "metadata": {
        "id": "XXBWFis-HqvG"
      },
      "outputs": [],
      "source": [
        "import pandas as pd\n",
        "\n",
        "import math\n",
        "from scipy.stats import pearsonr\n",
        "import numpy as np\n",
        "from sklearn.model_selection import train_test_split\n",
        "from sklearn.linear_model import LinearRegression\n",
        "from sklearn.metrics import mean_squared_error, r2_score\n",
        "from sklearn.preprocessing import PolynomialFeatures\n",
        "from sklearn.neighbors import KNeighborsRegressor\n",
        "from sklearn.preprocessing import StandardScaler\n",
        "from sklearn.ensemble import RandomForestRegressor\n",
        "from sklearn.model_selection import cross_val_score\n",
        "from sklearn.model_selection import KFold\n",
        "\n",
        "#------------------------------------------------------------------------------\n",
        "#  Importando os dados e os aplicando em um dataframe\n",
        "#------------------------------------------------------------------------------\n",
        "\n",
        "dados= pd.read_csv('conjunto_de_treinamento.csv', delimiter=',', decimal='.')\n",
        "dados_teste = pd.read_csv('conjunto_de_teste.csv', delimiter=',', decimal='.')\n",
        "\n",
        "\n"
      ]
    },
    {
      "cell_type": "code",
      "execution_count": null,
      "metadata": {
        "id": "2hiNTXfk5uuY"
      },
      "outputs": [],
      "source": [
        "dados = dados.drop(['Id'], axis = 1)\n",
        "dados_teste = dados_teste.drop(['Id'], axis = 1)"
      ]
    },
    {
      "cell_type": "markdown",
      "metadata": {
        "id": "zoCM5Rvr1gxt"
      },
      "source": [
        "### Subcategorização dos dados"
      ]
    },
    {
      "cell_type": "code",
      "execution_count": null,
      "metadata": {
        "id": "fw6KzRp8l6nA"
      },
      "outputs": [],
      "source": [
        "diferenciais = {'campo de futebol e copa':'futebol+',\n",
        " 'campo de futebol e esquina':'futebol+',\n",
        " 'campo de futebol e estacionamento visitantes':'futebol+',\n",
        " 'campo de futebol e playground':'futebol+',\n",
        " 'campo de futebol e quadra poliesportiva':'futebol+',\n",
        " 'campo de futebol e salao de festas':'futebol+',\n",
        " 'children care':'children care',\n",
        " 'children care e playground':'children care+',\n",
        " 'churrasqueira':'churrasco',\n",
        " 'churrasqueira e campo de futebol':'churrasco+',\n",
        " 'churrasqueira e copa':'churrasco+',\n",
        " 'churrasqueira e esquina':'churrasco+',\n",
        " 'churrasqueira e estacionamento visitantes':'churrasco+',\n",
        " 'churrasqueira e frente para o mar':'churrasco+',\n",
        " 'churrasqueira e playground':'churrasco+',\n",
        " 'churrasqueira e sala de ginastica':'churrasco+',\n",
        " 'churrasqueira e salao de festas':'churrasco+',\n",
        " 'churrasqueira e sauna':'churrasco+',\n",
        " 'copa':'copa',\n",
        " 'copa e esquina':'copa+',\n",
        " 'copa e estacionamento visitantes':'copa+',\n",
        " 'copa e playground':'copa+',\n",
        " 'copa e quadra poliesportiva':'copa+',\n",
        " 'copa e sala de ginastica':'copa+',\n",
        " 'copa e salao de festas':'copa+',\n",
        " 'esquina':'esquina',\n",
        " 'esquina e estacionamento visitantes':'esquina+',\n",
        " 'esquina e playground':'esquina+',\n",
        " 'esquina e quadra poliesportiva':'esquina+',\n",
        " 'esquina e sala de ginastica':'esquina+',\n",
        " 'esquina e salao de festas':'esquina+',\n",
        " 'estacionamento visitantes':'estacionamento visitantes',\n",
        " 'estacionamento visitantes e playground':'estacionamento visitantes+',\n",
        " 'estacionamento visitantes e sala de ginastica':'estacionamento visitantes+',\n",
        " 'estacionamento visitantes e salao de festas':'estacionamento visitantes+',\n",
        " 'frente para o mar':'frente para o mar',\n",
        " 'frente para o mar e campo de futebol':'mar+',\n",
        " 'frente para o mar e copa':'mar+',\n",
        " 'frente para o mar e esquina':'mar+',\n",
        " 'frente para o mar e playground':'mar+',\n",
        " 'frente para o mar e quadra poliesportiva':'mar+',\n",
        " 'frente para o mar e salao de festas':'mar+',\n",
        " 'nenhum':'nenhum',\n",
        " 'piscina':'piscina',\n",
        " 'piscina e campo de futebol':'piscina+',\n",
        " 'piscina e children care':'piscina+',\n",
        " 'piscina e churrasqueira':'piscina+',\n",
        " 'piscina e copa':'piscina+',\n",
        " 'piscina e esquina':'piscina+',\n",
        " 'piscina e estacionamento visitantes':'piscina+',\n",
        " 'piscina e frente para o mar':'piscina+',\n",
        " 'piscina e hidromassagem':'piscina+',\n",
        " 'piscina e playground':'piscina+',\n",
        " 'piscina e quadra de squash':'piscina+',\n",
        " 'piscina e quadra poliesportiva':'piscina+',\n",
        " 'piscina e sala de ginastica':'piscina+',\n",
        " 'piscina e salao de festas':'piscina+',\n",
        " 'piscina e salao de jogos':'piscina+',\n",
        " 'piscina e sauna':'piscina+',\n",
        " 'playground':'playground',\n",
        " 'playground e quadra poliesportiva':'playground+',\n",
        " 'playground e sala de ginastica':'playground+',\n",
        " 'playground e salao de festas':'playground+',\n",
        " 'playground e salao de jogos':'playground+',\n",
        " 'quadra poliesportiva':'quadra poliesportiva',\n",
        " 'quadra poliesportiva e salao de festas':'quadra+',\n",
        " 'sala de ginastica':'sala de ginastica',\n",
        " 'sala de ginastica e salao de festas':'ginastica+',\n",
        " 'sala de ginastica e salao de jogos':'ginastica+',\n",
        " 'salao de festas':'salao de festas',\n",
        " 'salao de festas e salao de jogos':'festa+',\n",
        " 'salao de festas e vestiario':'festa+',\n",
        " 'salao de jogos':'salao de jogos',\n",
        " 'sauna':'sauna',\n",
        " 'sauna e campo de futebol':'sauna+',\n",
        " 'sauna e copa':'sauna+',\n",
        " 'sauna e esquina':'sauna+',\n",
        " 'sauna e frente para o mar':'sauna+',\n",
        " 'sauna e playground':'sauna+',\n",
        " 'sauna e quadra poliesportiva':'sauna+',\n",
        " 'sauna e sala de ginastica':'sauna+',\n",
        " 'sauna e salao de festas':'sauna+',\n",
        " 'vestiario':'vestiario'}\n",
        "\n",
        "\n",
        "dados = dados.replace(diferenciais)\n",
        "dados_teste = dados_teste.replace(diferenciais)"
      ]
    },
    {
      "cell_type": "code",
      "execution_count": null,
      "metadata": {
        "id": "XnrcTJVwb7RV"
      },
      "outputs": [],
      "source": [
        "\n",
        "\n",
        "bairros = {'Aflitos': 'pobre',\n",
        " 'Afogados':'pobre',\n",
        " 'Agua Fria':'pobre',\n",
        " 'Apipucos':'meiotermo',\n",
        " 'Areias':'meiotermo',\n",
        " 'Arruda':'meiotermo',\n",
        " 'Barro':'pobre',\n",
        " 'Beberibe':'pobre',\n",
        " 'Beira Rio':'pobre',\n",
        " 'Benfica':'pobre',\n",
        " 'Boa Viagem':'rico',\n",
        " 'Boa Vista':'meiotermo',\n",
        " 'Bongi':'meiotermo',\n",
        " 'Cajueiro':'meiotermo',\n",
        " 'Campo Grande':'meiotermo',\n",
        " 'Casa Amarela':'meiotermo',\n",
        " 'Casa Forte':'rico',\n",
        " 'Caxanga':'meiotermo',\n",
        " 'Centro':'meiotermo',\n",
        " 'Cid Universitaria':'meiotermo',\n",
        " 'Coelhos':'pobre',\n",
        " 'Cohab':'pobre',\n",
        " 'Cordeiro':'meiotermo',\n",
        " 'Derby':'meiotermo',\n",
        " 'Dois Irmaos':'meiotermo',\n",
        " 'Encruzilhada':'meiotermo',\n",
        " 'Engenho do Meio':'meiotermo',\n",
        " 'Espinheiro':'rico',\n",
        " 'Estancia':'pobre',\n",
        " 'Fundao':'pobre',\n",
        " 'Gracas':'rico',\n",
        " 'Guabiraba':'pobre',\n",
        " 'Hipodromo':'pobre',\n",
        " 'Ilha do Leite':'meiotermo',\n",
        " 'Ilha do Retiro':'rico',\n",
        " 'Imbiribeira':'meiotermo',\n",
        " 'Ipsep':'meiotermo',\n",
        " 'Iputinga':'meiotermo',\n",
        " 'Jaqueira':'rico',\n",
        " 'Jd S Paulo':'meiotermo',\n",
        " 'Lagoa do Araca':'meiotermo',\n",
        " 'Macaxeira':'pobre',\n",
        " 'Madalena':'rico',\n",
        " 'Monteiro':'meiotermo',\n",
        " 'Paissandu':'rico',\n",
        " 'Parnamirim':'meiotermo',\n",
        " 'Piedade':'pobre',\n",
        " 'Pina':'meiotermo',\n",
        " 'Poco':'pobre',\n",
        " 'Poco da Panela':'meiotermo',\n",
        " 'Ponto de Parada':'pobre',\n",
        " 'Prado':'meiotermo',\n",
        " 'Recife':'meiotermo',\n",
        " 'Rosarinho':'meiotermo',\n",
        " 'S Jose':'rico',\n",
        " 'San Martin':'meiotermo',\n",
        " 'Sancho':'meiotermo',\n",
        " 'Santana':'meiotermo',\n",
        " 'Setubal':'rico',\n",
        " 'Soledade':'meiotermo',\n",
        " 'Sto Amaro':'meiotermo',\n",
        " 'Sto Antonio':'meiotermo',\n",
        " 'Tamarineira':'rico',\n",
        " 'Tejipio':'meiotermo',\n",
        " 'Torre':'meiotermo',\n",
        " 'Torreao':'meiotermo',\n",
        " 'Varzea':'meiotermo',\n",
        " 'Zumbi':'pobre'}\n",
        "\n",
        "\n",
        "dados = dados.replace(bairros)\n",
        "dados_teste = dados_teste.replace(bairros)\n",
        "\n"
      ]
    },
    {
      "cell_type": "markdown",
      "metadata": {
        "id": "XGTzu50b1av6"
      },
      "source": [
        "### Aplicando One-Hot-Encoding"
      ]
    },
    {
      "cell_type": "code",
      "execution_count": null,
      "metadata": {
        "id": "CXE0JTzTr6cC"
      },
      "outputs": [],
      "source": [
        "dados = pd.get_dummies(dados,columns = ['tipo'])\n",
        "dados = pd.get_dummies(dados,columns = ['bairro'])\n",
        "dados = pd.get_dummies(dados,columns = ['tipo_vendedor'])\n",
        "dados = pd.get_dummies(dados,columns = ['diferenciais'])\n",
        "\n",
        "dados_teste  = pd.get_dummies(dados_teste ,columns = ['tipo'])\n",
        "dados_teste  = pd.get_dummies(dados_teste ,columns = ['bairro'])\n",
        "dados_teste  = pd.get_dummies(dados_teste ,columns = ['tipo_vendedor'])\n",
        "dados_teste  = pd.get_dummies(dados_teste ,columns = ['diferenciais'])\n",
        "\n",
        "\n",
        "\n",
        "#display(dados)"
      ]
    },
    {
      "cell_type": "code",
      "execution_count": null,
      "metadata": {
        "id": "WZrgDDH-5SKZ"
      },
      "outputs": [],
      "source": [
        " print(dados.columns.tolist())"
      ]
    },
    {
      "cell_type": "code",
      "execution_count": null,
      "metadata": {
        "id": "HsCEAfjehr2i"
      },
      "outputs": [],
      "source": [
        " print(dados_teste.columns.tolist())"
      ]
    },
    {
      "cell_type": "markdown",
      "metadata": {
        "id": "OLCsdlz4YmwT"
      },
      "source": [
        "## Retirar colunas não presentes em ambos arquivos"
      ]
    },
    {
      "cell_type": "code",
      "execution_count": null,
      "metadata": {
        "id": "pPnrcFVi4bYy"
      },
      "outputs": [],
      "source": [
        "colunasDados = dados.columns.tolist()\n",
        "colunasDadosTeste = dados_teste.columns.tolist()\n",
        "e = (set(colunasDados) & set(colunasDadosTeste))\n",
        "print(\"Elementos comuns\", e )"
      ]
    },
    {
      "cell_type": "code",
      "execution_count": null,
      "metadata": {
        "id": "mqeDddlJRp-M"
      },
      "outputs": [],
      "source": [
        "colunasDados = dados.columns.tolist()\n",
        "colunasDadosTeste = dados_teste.columns.tolist()\n",
        "a = set(colunasDadosTeste)\n",
        "b = set(colunasDados)\n",
        "f = a-e\n",
        "g = b-e\n",
        "print(f)\n",
        "print(g)"
      ]
    },
    {
      "cell_type": "code",
      "execution_count": null,
      "metadata": {
        "id": "5hnk03sfY0eD"
      },
      "outputs": [],
      "source": [
        "dados_teste = dados_teste.drop(['diferenciais_frente para o mar e children care', 'bairro_Ibura', 'diferenciais_estacionamento visitantes e hidromassagem', 'diferenciais_campo de futebol e sala de ginastica', 'diferenciais_estacionamento visitantes e salao de jogos', 'diferenciais_frente para o mar e hidromassagem', 'diferenciais_hidromassagem e salao de festas', 'diferenciais_churrasqueira e children care', 'diferenciais_copa e hidromassagem'],axis = 1)\n",
        "dados = dados.drop(['tipo_Quitinete', 'diferenciais_children care', 'diferenciais_children care+', 'diferenciais_quadra poliesportiva'],axis = 1)"
      ]
    },
    {
      "cell_type": "markdown",
      "metadata": {
        "id": "dBykYEiGZBNs"
      },
      "source": [
        "## Retirando os outliers"
      ]
    },
    {
      "cell_type": "code",
      "execution_count": null,
      "metadata": {
        "id": "LYBF1CFuZDd7"
      },
      "outputs": [],
      "source": [
        "dados = dados[(dados['preco']>= 50000) & (dados['preco']<= 5000000)]"
      ]
    },
    {
      "cell_type": "markdown",
      "metadata": {
        "id": "E00OxEgOIYX3"
      },
      "source": [
        "## Verificando o coeficiente de Pearson"
      ]
    },
    {
      "cell_type": "code",
      "execution_count": null,
      "metadata": {
        "id": "aA8Dltarrh6r"
      },
      "outputs": [],
      "source": [
        "variaveis_categoricas = [ x for x in dados.columns if dados[x].dtype == 'object']\n",
        "for v in variaveis_categoricas:\n",
        "  print('\\n%15s: '%v, \"%4d categorias\" % len(dados[v].unique()))\n",
        "  print(dados[v].unique(),'\\n')"
      ]
    },
    {
      "cell_type": "code",
      "execution_count": null,
      "metadata": {
        "id": "91QBZDFK7jI-"
      },
      "outputs": [],
      "source": [
        "colunasNovas = dados.columns\n",
        "for col in colunasNovas:\n",
        "  print('%10s = %6.3f' % (col, pearsonr(dados[col],dados['preco'])[0]))\n",
        "\n"
      ]
    },
    {
      "cell_type": "markdown",
      "metadata": {
        "id": "GBOuhsHhEJYp"
      },
      "source": [
        "## Removendo variáveis de baixo coeficiente de Pearson"
      ]
    },
    {
      "cell_type": "code",
      "execution_count": null,
      "metadata": {
        "id": "OA0IpB5g_oRb"
      },
      "outputs": [],
      "source": [
        "dados = dados.drop(['quadra','s_ginastica','diferenciais_copa','diferenciais_esquina+','diferenciais_sauna','diferenciais_vestiario'],axis=1)\n",
        "dados_teste = dados_teste.drop(['quadra','s_ginastica','diferenciais_copa','diferenciais_esquina+','diferenciais_sauna','diferenciais_vestiario'],axis=1)\n",
        "\n",
        "dados = dados.drop(['diferenciais_ginastica+','diferenciais_quadra+','diferenciais_salao de jogos'],axis=1)\n",
        "dados_teste = dados_teste.drop(['diferenciais_ginastica+','diferenciais_quadra+','diferenciais_salao de jogos'],axis=1)\n",
        "\n",
        "\n",
        "dados = dados.drop(['diferenciais_festa+','diferenciais_piscina','diferenciais_churrasco','bairro_pobre'],axis=1)\n",
        "dados_teste = dados_teste.drop(['diferenciais_festa+','diferenciais_piscina','diferenciais_churrasco','bairro_pobre'],axis=1)\n",
        "\n",
        "dados = dados.drop(['s_jogos','tipo_vendedor_Imobiliaria','tipo_vendedor_Pessoa Fisica','diferenciais_futebol+','diferenciais_frente para o mar'],axis=1)\n",
        "dados_teste = dados_teste.drop(['s_jogos','tipo_vendedor_Imobiliaria','tipo_vendedor_Pessoa Fisica','diferenciais_futebol+','diferenciais_frente para o mar'],axis=1)\n",
        "\n",
        "dados = dados.drop(['diferenciais_estacionamento visitantes+','diferenciais_sauna+','diferenciais_esquina'],axis=1)\n",
        "dados_teste = dados_teste.drop(['diferenciais_estacionamento visitantes+','diferenciais_sauna+','diferenciais_esquina'],axis=1)\n",
        "\n",
        "\n",
        "dados = dados.drop(['tipo_Loft','diferenciais_churrasco+','diferenciais_playground','diferenciais_playground+'],axis=1)\n",
        "dados_teste = dados_teste.drop(['tipo_Loft','diferenciais_churrasco+','diferenciais_playground','diferenciais_playground+'],axis=1)\n",
        "\n",
        "dados = dados.drop(['diferenciais_salao de festas','diferenciais_estacionamento visitantes','estacionamento','area_extra','churrasqueira'],axis=1)\n",
        "dados_teste = dados_teste.drop(['diferenciais_salao de festas','diferenciais_estacionamento visitantes','estacionamento','area_extra','churrasqueira'],axis=1)\n",
        "\n",
        "dados = dados.drop(['playground','diferenciais_copa+'],axis=1)\n",
        "dados_teste = dados_teste.drop(['playground','diferenciais_copa+'],axis=1)\n",
        "\n",
        "dados = dados.drop(['s_festas','diferenciais_sala de ginastica'],axis=1)\n",
        "dados_teste = dados_teste.drop(['s_festas','diferenciais_sala de ginastica'],axis=1)\n",
        "\n",
        "\n"
      ]
    },
    {
      "cell_type": "markdown",
      "metadata": {
        "id": "RTGUqb_drZqX"
      },
      "source": [
        "## Separação dos conjuntos de treino e teste"
      ]
    },
    {
      "cell_type": "code",
      "execution_count": null,
      "metadata": {
        "id": "lwsXF8JclHaC"
      },
      "outputs": [],
      "source": [
        "x = dados.drop('preco',axis = 1).to_numpy()\n",
        "y = dados['preco'].to_numpy()\n"
      ]
    },
    {
      "cell_type": "code",
      "execution_count": null,
      "metadata": {
        "id": "4Rmt8KJ2nNMm"
      },
      "outputs": [],
      "source": [
        "x_treino, x_teste, y_treino, y_teste = train_test_split(\n",
        "        x,\n",
        "        y,\n",
        "        test_size = 1500,\n",
        "        random_state = 0\n",
        ")"
      ]
    },
    {
      "cell_type": "markdown",
      "metadata": {
        "id": "GldyqCw2rdiP"
      },
      "source": [
        "## Scaller para calibragem"
      ]
    },
    {
      "cell_type": "code",
      "execution_count": null,
      "metadata": {
        "id": "4Tczf_FUx2_q"
      },
      "outputs": [],
      "source": [
        "escala = StandardScaler()\n",
        "escala.fit(x_treino)\n",
        "\n",
        "x_treino = escala.transform(x_treino)\n",
        "x_teste = escala.transform(x_teste)"
      ]
    },
    {
      "cell_type": "code",
      "execution_count": null,
      "metadata": {
        "id": "PL5w1BFpNeGP"
      },
      "outputs": [],
      "source": [
        "#scaler = MinMaxScaler()\n",
        "#scaler.fit_transform(x_treino)\n",
        "#x_treino = scaler.transform(x_treino)\n",
        "#x_teste = scaler.transform(x_teste)\n"
      ]
    },
    {
      "cell_type": "markdown",
      "metadata": {
        "id": "M4qf4Q-ugMSi"
      },
      "source": [
        "## Linear Regression"
      ]
    },
    {
      "cell_type": "code",
      "execution_count": null,
      "metadata": {
        "id": "NwkNhIEenOAN"
      },
      "outputs": [],
      "source": [
        "#treinar um regressor linear\n",
        "\n",
        "regressor_linear = LinearRegression()\n",
        "\n",
        "regressor_linear = regressor_linear.fit(x_treino,y_treino)\n",
        "\n"
      ]
    },
    {
      "cell_type": "code",
      "execution_count": null,
      "metadata": {
        "id": "ebxRUFdXnRSF"
      },
      "outputs": [],
      "source": [
        "y_resposta_treino = regressor_linear.predict(x_treino)\n",
        "y_resposta_teste = regressor_linear.predict(x_teste)"
      ]
    },
    {
      "cell_type": "code",
      "execution_count": null,
      "metadata": {
        "id": "kQFk-1b_7GN1"
      },
      "outputs": [],
      "source": [
        "print(y_resposta_treino)"
      ]
    },
    {
      "cell_type": "code",
      "execution_count": null,
      "metadata": {
        "id": "IsvcPOpBo_AS"
      },
      "outputs": [],
      "source": [
        "mse_in = mean_squared_error(y_treino,y_resposta_treino)\n",
        "rmse_in = math.sqrt(mse_in)\n",
        "r2_in = r2_score(y_treino,y_resposta_treino)\n",
        "rmspe = (np.sqrt(np.mean(np.square((y_teste - y_resposta_teste) / y_teste))))\n",
        "mse_out = mean_squared_error(y_teste,y_resposta_teste)\n",
        "rmse_out = math.sqrt(mse_out)\n",
        "r2_out = r2_score(y_teste,y_resposta_teste)\n",
        "print('%7s %17.4f %15.4f' % ( 'mse', mse_in, mse_out))\n",
        "print('%7s %17.4f %15.4f' % ( 'rmse', rmse_in, rmse_out))\n",
        "print('%7s %17.4f %15.4f' % ( 'r2', r2_in, r2_out))\n",
        "rmspe = (np.sqrt(np.mean(np.square((y_teste - y_resposta_teste) / y_teste))))\n",
        "\n",
        "print('%7s %17.4f'  % ( 'rmspe', rmspe))"
      ]
    },
    {
      "cell_type": "markdown",
      "metadata": {
        "id": "Xx09c1Wkrhr2"
      },
      "source": [
        "## Polinomial Regression"
      ]
    },
    {
      "cell_type": "code",
      "execution_count": null,
      "metadata": {
        "id": "wC8RFwr1bGSw"
      },
      "outputs": [],
      "source": [
        "for k in range (1,4):\n",
        "  pf = PolynomialFeatures(degree = k)\n",
        "  pf = pf.fit(x_treino)\n",
        "  x_treino_poly = pf.transform(x_treino)\n",
        "  x_teste_poly = pf.transform(x_teste)\n",
        "\n",
        "  regressor_linear = LinearRegression()\n",
        "\n",
        "  regressor_linear = regressor_linear.fit(x_treino_poly,y_treino)\n",
        "\n",
        "  y_resposta_treino = regressor_linear.predict(x_treino_poly)\n",
        "  y_resposta_teste = regressor_linear.predict(x_teste_poly)\n",
        "\n",
        "\n",
        "  mse_in = mean_squared_error(y_treino,y_resposta_treino)\n",
        "  rmse_in = math.sqrt(mse_in)\n",
        "  r2_in = r2_score(y_treino,y_resposta_treino)\n",
        "  rmspe = (np.sqrt(np.mean(np.square((y_teste - y_resposta_teste) / y_teste))))\n",
        "  mse_out = mean_squared_error(y_teste,y_resposta_teste)\n",
        "  rmse_out = math.sqrt(mse_out)\n",
        "  r2_out = r2_score(y_teste,y_resposta_teste)\n",
        "\n",
        "  print(' %3d %17.4f %15.4f  %15.4f' % ( k, rmse_in, rmse_out, rmspe))\n"
      ]
    },
    {
      "cell_type": "markdown",
      "metadata": {
        "id": "WMyROa48g3Eg"
      },
      "source": [
        "## Geração de CSV"
      ]
    },
    {
      "cell_type": "code",
      "execution_count": null,
      "metadata": {
        "id": "nqwgS_1Eg44Q"
      },
      "outputs": [],
      "source": [
        "dados_embaralhados = dados.sample(frac=1,random_state=12345)\n",
        "x = dados_embaralhados.drop(['preco'],axis = 1).to_numpy()\n",
        "y = dados_embaralhados['preco'].to_numpy()\n",
        "\n",
        "#x = dados.drop(['preco'])to_numpy()\n",
        "#y = dados.to_numpy()\n",
        "x_final = dados_teste.to_numpy()\n",
        "#y_teste = dados_teste.to_numpy()\n",
        "\n",
        "x_treino_final = x\n",
        "y_treino_final = y\n",
        "\n",
        "#teste\n",
        "x_teste_final = x_final"
      ]
    },
    {
      "cell_type": "markdown",
      "metadata": {
        "id": "m_-Vv6Ei26fY"
      },
      "source": [
        "## Scaler para geração do CSV"
      ]
    },
    {
      "cell_type": "code",
      "execution_count": null,
      "metadata": {
        "id": "sBjprjg-of3Z"
      },
      "outputs": [],
      "source": [
        "#escala = StandardScaler()\n",
        "#escala.fit(x_treino)\n",
        "\n",
        "#x_treino_final = escala.transform(x_treino)\n",
        "#x_teste_final = escala.transform(x_teste)"
      ]
    },
    {
      "cell_type": "markdown",
      "metadata": {
        "id": "RXLcpU1kvDqZ"
      },
      "source": [
        "## KNN Regressor"
      ]
    },
    {
      "cell_type": "code",
      "execution_count": null,
      "metadata": {
        "id": "zs7pPD-4vFzY"
      },
      "outputs": [],
      "source": [
        "for k in range(1,5): #colocado um alcance curto do for para não tornar longa a execução final do arquivo com tudo junto\n",
        "  regressor_knn =KNeighborsRegressor(n_neighbors = k,weights ='distance')\n",
        "  regressor_knn = regressor_knn.fit(x_treino,y_treino)\n",
        "\n",
        "  y_resposta_treino = regressor_knn.predict(x_treino)\n",
        "  y_resposta_teste = regressor_knn.predict(x_teste)\n",
        "\n",
        "  mse_in = mean_squared_error(y_treino,y_resposta_treino)\n",
        "  rmse_in = math.sqrt(mse_in)\n",
        "  r2_in = r2_score(y_treino,y_resposta_treino)\n",
        "\n",
        "  mse_out = mean_squared_error(y_teste,y_resposta_teste)\n",
        "  rmse_out = math.sqrt(mse_out)\n",
        "  r2_out = r2_score(y_teste,y_resposta_teste)\n",
        "\n",
        "  rmspe = (np.sqrt(np.mean(np.square((y_teste - y_resposta_teste) / y_teste))))\n",
        "\n",
        "  print(' %3d %17.4f %15.4f %15.4f  %15.4f' % (k, rmse_in, rmse_out,rmspe, r2_out ) )\n",
        "\n"
      ]
    },
    {
      "cell_type": "markdown",
      "metadata": {
        "id": "C2UJXJN59g9Z"
      },
      "source": [
        "### Gerar CSV com KNN"
      ]
    },
    {
      "cell_type": "code",
      "execution_count": null,
      "metadata": {
        "id": "np6sT7Balc3l"
      },
      "outputs": [],
      "source": [
        "regressor_knn =KNeighborsRegressor(n_neighbors = 19,weights = 'distance')\n",
        "regressor_knn = regressor_knn.fit(x_treino_final,y_treino_final)\n",
        "\n",
        "y_resposta_treino = regressor_knn.predict(x_treino_final)\n",
        "y_resposta_teste = regressor_knn.predict(x_teste_final)"
      ]
    },
    {
      "cell_type": "code",
      "execution_count": null,
      "metadata": {
        "id": "TD_WJpzh5ZFn"
      },
      "outputs": [],
      "source": [
        "aux = pd.read_csv('conjunto_de_teste.csv')\n",
        "resposta_regressor_KNN = pd.DataFrame({'Id':aux.pop('Id'), 'preco':np.squeeze((y_resposta_teste))})\n",
        "resposta_regressor_KNN.to_csv(\"resposta_regressorKNN.csv\",index=False)"
      ]
    },
    {
      "cell_type": "code",
      "execution_count": null,
      "metadata": {
        "id": "fuYU75kWs1rD"
      },
      "outputs": [],
      "source": []
    },
    {
      "cell_type": "markdown",
      "metadata": {
        "id": "8x03Hsuz6dy-"
      },
      "source": [
        "## Random Forest Regressor"
      ]
    },
    {
      "cell_type": "markdown",
      "metadata": {
        "id": "4NPDTTB55NLx"
      },
      "source": [
        "### Testando parâmetros"
      ]
    },
    {
      "cell_type": "code",
      "execution_count": null,
      "metadata": {
        "id": "xZuUnzGqQcTH"
      },
      "outputs": [],
      "source": [
        "\n",
        "regressor = RandomForestRegressor(bootstrap = True, max_depth = 15, max_features = 5, min_samples_leaf = 2, min_samples_split = 5, n_estimators = 200, random_state = 0)\n",
        "regressor.fit(x_treino,y_treino)\n",
        "y_resposta_teste = regressor.predict(x_teste)\n",
        "kfold  = KFold(n_splits=15, shuffle=True)\n",
        "resultado = cross_val_score(regressor, x_treino, y_treino, cv = kfold)\n",
        "print(\"K-Fold (R^2) Scores: {0}\".format(resultado))\n",
        "print(\"Media do R^2 por validação cruzada K-Fold: {0}\".format(resultado.mean()))\n",
        "\n"
      ]
    },
    {
      "cell_type": "code",
      "execution_count": null,
      "metadata": {
        "id": "BWsLg8YKPyuh"
      },
      "outputs": [],
      "source": [
        "for n in range(1,16):\n",
        "  regressor = RandomForestRegressor(n_estimators = n,random_state = 0)\n",
        "  regressor.fit(x_treino,y_treino)\n",
        "#  y_resposta_teste = regressor.predict(x_teste)\n",
        "\n",
        "  kfold  = KFold(n_splits=15, shuffle=True)\n",
        "  resultado = cross_val_score(regressor, x_treino, y_treino, cv = kfold)\n",
        "  print(\"n = %i\"%n)\n",
        "  print(\"K-Fold (R^2) Scores: {0}\".format(resultado))\n",
        "  print(\"Media do R^2 por validação cruzada K-Fold: {0}\".format(resultado.mean()))"
      ]
    },
    {
      "cell_type": "markdown",
      "metadata": {
        "id": "rjkvsDp05B9S"
      },
      "source": [
        "### Gerando CSV com o Random Forest"
      ]
    },
    {
      "cell_type": "code",
      "execution_count": null,
      "metadata": {
        "id": "EXwIvF476gTh"
      },
      "outputs": [],
      "source": [
        "regressor = RandomForestRegressor(bootstrap = True, max_depth = 15, max_features = 5, min_samples_leaf = 2, min_samples_split = 5, n_estimators = 200, random_state = 0)\n",
        "regressor.fit(x_treino_final,y_treino_final)\n",
        "y_resposta_teste = regressor.predict(x_teste_final)\n",
        "\n",
        "\n",
        "#r2_score(y_teste,y_RandomForest)\n",
        "#y_resposta_teste"
      ]
    },
    {
      "cell_type": "code",
      "execution_count": null,
      "metadata": {
        "id": "lcWoqY9AgFWa"
      },
      "outputs": [],
      "source": [
        "aux = pd.read_csv('conjunto_de_teste.csv')\n",
        "resposta_regressor_randomForest = pd.DataFrame({'Id':aux.pop('Id'), 'preco':np.squeeze((y_resposta_teste))})\n",
        "resposta_regressor_randomForest.to_csv(\"resposta_randomforest.csv\",index=False)"
      ]
    }
  ],
  "metadata": {
    "colab": {
      "provenance": []
    },
    "kernelspec": {
      "display_name": "Python 3",
      "name": "python3"
    },
    "language_info": {
      "codemirror_mode": {
        "name": "ipython",
        "version": 3
      },
      "file_extension": ".py",
      "mimetype": "text/x-python",
      "name": "python",
      "nbconvert_exporter": "python",
      "pygments_lexer": "ipython3",
      "version": "3.10.9"
    }
  },
  "nbformat": 4,
  "nbformat_minor": 0
}